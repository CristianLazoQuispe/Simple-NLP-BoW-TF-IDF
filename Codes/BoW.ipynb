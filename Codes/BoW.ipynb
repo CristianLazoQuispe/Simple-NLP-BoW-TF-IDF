{
 "cells": [
  {
   "cell_type": "code",
   "execution_count": 1,
   "metadata": {},
   "outputs": [],
   "source": [
    "import sys\n",
    "sys.path.insert(1, '../Src/')\n",
    "\n",
    "import numpy as np\n",
    "from utils import *\n",
    "\n"
   ]
  },
  {
   "cell_type": "markdown",
   "metadata": {},
   "source": [
    "# Load Dataset"
   ]
  },
  {
   "cell_type": "code",
   "execution_count": 2,
   "metadata": {},
   "outputs": [
    {
     "name": "stdout",
     "output_type": "stream",
     "text": [
      "5\n"
     ]
    }
   ],
   "source": [
    "filelocation = r'../Data/text1.txt'\n",
    "dataset  = load_text(filelocation)\n",
    "print(len(dataset))"
   ]
  },
  {
   "cell_type": "code",
   "execution_count": 3,
   "metadata": {},
   "outputs": [
    {
     "data": {
      "text/plain": [
       "'Lorem ipsum dolor sit amet, consectetur adipiscing elit. Donec eget hendrerit elit. Etiam malesuada lacus in sem tempus hendrerit. Pellentesque cursus magna at mi semper, ut consectetur erat vehicula. Etiam augue massa, posuere vitae pharetra vitae, bibendum quis sem. Integer scelerisque a diam vitae cursus. Vivamus quis ex eget leo hendrerit aliquam cursus at leo. Aenean fermentum maximus gravida. Curabitur rhoncus nibh ut quam convallis sagittis ut eget sapien. Ut libero urna, consequat et ex in, pharetra tempus nibh. Nulla mi tellus, bibendum vel consectetur ac, eleifend ut lacus. Pellentesque quis sem felis. Nunc eu tellus tempor, ultrices mi ut, vulputate turpis.\\n'"
      ]
     },
     "execution_count": 3,
     "metadata": {},
     "output_type": "execute_result"
    }
   ],
   "source": [
    "dataset[0]"
   ]
  },
  {
   "cell_type": "markdown",
   "metadata": {},
   "source": [
    "# Clean Dataset"
   ]
  },
  {
   "cell_type": "code",
   "execution_count": 4,
   "metadata": {},
   "outputs": [],
   "source": [
    "new_dataset = clean_dataset(dataset)"
   ]
  },
  {
   "cell_type": "code",
   "execution_count": 5,
   "metadata": {},
   "outputs": [
    {
     "data": {
      "text/plain": [
       "'lrem ipsum dlr sit am cnsectur ipcg elit dc eg hendrerit elit malua lus sem tempus hendrerit pellentque sus magna mi sem ut cnsectur er veula augue massa psuere ve pharra ve biben qu sem teger scelerque a d ve sus vivamus qu eg le hendrerit ali sus le ae fermentum maximus gravida itur rhncus nibh ut cnvall sagitt ut eg sapien ut liber urna cnsequ pharra tempus nibh nulla mi tellus biben vel cnsectur eleifend ut lus pellentque qu sem fel nunc eu tellus tempr ultric mi ut vulpute turp'"
      ]
     },
     "execution_count": 5,
     "metadata": {},
     "output_type": "execute_result"
    }
   ],
   "source": [
    "new_dataset[0]"
   ]
  },
  {
   "cell_type": "markdown",
   "metadata": {},
   "source": [
    "# Get Vocabulary"
   ]
  },
  {
   "cell_type": "code",
   "execution_count": 6,
   "metadata": {},
   "outputs": [
    {
     "name": "stdout",
     "output_type": "stream",
     "text": [
      "number of words:  128\n"
     ]
    }
   ],
   "source": [
    "vocabulary = get_vocabulary(new_dataset)"
   ]
  },
  {
   "cell_type": "code",
   "execution_count": 7,
   "metadata": {},
   "outputs": [
    {
     "name": "stdout",
     "output_type": "stream",
     "text": [
      "['lrem', 'ipsum', 'dlr', 'sit', 'am', 'cnsectur', 'ipcg', 'elit', 'dc', 'eg', 'hendrerit', 'malua', 'lus', 'sem', 'tempus', 'pellentque', 'sus', 'magna', 'mi', 'ut', 'er', 'veula', 'augue', 'massa', 'psuere', 've', 'pharra', 'biben', 'qu', 'teger', 'scelerque', 'a', 'd', 'vivamus', 'le', 'ali', 'ae', 'fermentum', 'maximus', 'gravida', 'itur', 'rhncus', 'nibh', 'cnvall', 'sagitt', 'sapien', 'liber', 'urna', 'cnsequ', 'nulla', 'tellus', 'vel', 'eleifend', 'fel', 'nunc', 'eu', 'tempr', 'ultric', 'vulpute', 'turp', 'maecenas', 'trtr', 'rus', 'c', 'prta', 'ni', 'id', 'iul', 'trtique', 'fusce', 'prium', 'rci', 'mt', 'fil', 'mrbi', 'frgilla', 'phasellus', 'lare', 'auctr', 'maur', 'feugi', 'dapibus', 'vtibulum', 'te', 'nullam', 'rutrum', 'dictum', 'lectus', 'tcidunt', 'que', 'cm', 'just', 'praent', 'mus', 'sed', 'vlutp', 'bldit', 'cngue', 'purus', 'cras', 'cndimentum', 'lia', 'dignsim', 'di', 'efficitur', 'nl', 'ter', 'ligula', 'fam', 'prim', 'faucibus', 'elementum', 'suscipit', 'ullamcr', 'mltie', 'fili', 'lbrt', 'pr', 'du', 'ers', 'arcu', 'eumd', 'egtas', 'ven', 'suspendse', 'imdi', 's', 'sdal']\n"
     ]
    }
   ],
   "source": [
    "print([*vocabulary])"
   ]
  },
  {
   "cell_type": "markdown",
   "metadata": {},
   "source": [
    "# Bag of Words Encoding"
   ]
  },
  {
   "cell_type": "code",
   "execution_count": 8,
   "metadata": {},
   "outputs": [],
   "source": [
    "def encoding_BoW(text,vocabulary):\n",
    "    encoding = vocabulary.copy()\n",
    "    for word in text.split(' '):\n",
    "        encoding[word]+=1\n",
    "    \n",
    "    list_encoding = []\n",
    "    for value in encoding:\n",
    "        list_encoding.append(encoding[value])\n",
    "    return list_encoding\n"
   ]
  },
  {
   "cell_type": "code",
   "execution_count": 9,
   "metadata": {},
   "outputs": [],
   "source": [
    "encodings_BoW = []\n",
    "for text in new_dataset:\n",
    "    encodings_BoW.append(encoding_BoW(text,vocabulary))\n",
    "\n",
    "encodings_BoW  = np.array(encodings_BoW)"
   ]
  },
  {
   "cell_type": "code",
   "execution_count": 10,
   "metadata": {},
   "outputs": [
    {
     "name": "stdout",
     "output_type": "stream",
     "text": [
      "lrem ipsum dlr sit am cnsectur ipcg elit dc eg hendrerit elit malua lus sem tempus hendrerit pellentque sus magna mi sem ut cnsectur er veula augue massa psuere ve pharra ve biben qu sem teger scelerque a d ve sus vivamus qu eg le hendrerit ali sus le ae fermentum maximus gravida itur rhncus nibh ut cnvall sagitt ut eg sapien ut liber urna cnsequ pharra tempus nibh nulla mi tellus biben vel cnsectur eleifend ut lus pellentque qu sem fel nunc eu tellus tempr ultric mi ut vulpute turp\n"
     ]
    }
   ],
   "source": [
    "print(new_dataset[0])"
   ]
  },
  {
   "cell_type": "code",
   "execution_count": 11,
   "metadata": {},
   "outputs": [
    {
     "name": "stdout",
     "output_type": "stream",
     "text": [
      "[1 1 1 1 1 3 1 2 1 3 3 1 2 4 2 2 3 1 3 6 1 1 1 1 1 3 2 2 3 1 1 1 1 1 2 1 1\n",
      " 1 1 1 1 1 2 1 1 1 1 1 1 1 2 1 1 1 1 1 1 1 1 1 0 0 0 0 0 0 0 0 0 0 0 0 0 0\n",
      " 0 0 0 0 0 0 0 0 0 0 0 0 0 0 0 0 0 0 0 0 0 0 0 0 0 0 0 0 0 0 0 0 0 0 0 0 0\n",
      " 0 0 0 0 0 0 0 0 0 0 0 0 0 0 0 0 0]\n"
     ]
    }
   ],
   "source": [
    "print(encodings_BoW[0])"
   ]
  },
  {
   "cell_type": "code",
   "execution_count": 12,
   "metadata": {},
   "outputs": [],
   "source": [
    "np.save('../Results/BoW-encoding.npy', encodings_BoW) \n",
    "encodings_BoW = np.load('../Results/BoW-encoding.npy')\n"
   ]
  },
  {
   "cell_type": "code",
   "execution_count": null,
   "metadata": {},
   "outputs": [],
   "source": []
  },
  {
   "cell_type": "code",
   "execution_count": null,
   "metadata": {},
   "outputs": [],
   "source": []
  },
  {
   "cell_type": "code",
   "execution_count": null,
   "metadata": {},
   "outputs": [],
   "source": []
  }
 ],
 "metadata": {
  "interpreter": {
   "hash": "31f2aee4e71d21fbe5cf8b01ff0e069b9275f58929596ceb00d14d90e3e16cd6"
  },
  "kernelspec": {
   "display_name": "Python 3.6.9 64-bit",
   "name": "python3"
  },
  "language_info": {
   "codemirror_mode": {
    "name": "ipython",
    "version": 3
   },
   "file_extension": ".py",
   "mimetype": "text/x-python",
   "name": "python",
   "nbconvert_exporter": "python",
   "pygments_lexer": "ipython3",
   "version": "3.6.9"
  },
  "orig_nbformat": 4
 },
 "nbformat": 4,
 "nbformat_minor": 2
}
